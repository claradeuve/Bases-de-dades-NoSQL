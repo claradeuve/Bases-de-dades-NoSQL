{
 "cells": [
  {
   "cell_type": "markdown",
   "id": "12da23c6",
   "metadata": {},
   "source": [
    "## Exercici 1\n",
    "Crea una base de dades NoSQL utilitzant MongoDB. Afegeix-li algunes dades d'exemple que et permetin comprovar que ets capaç de processar-ne la informació de manera bàsica."
   ]
  },
  {
   "cell_type": "markdown",
   "id": "713642d1",
   "metadata": {},
   "source": [
    "Esta es una captura de pantalla para mostrar los datos iniciales que he introducido a través de la GUI de MongoDB"
   ]
  },
  {
   "cell_type": "code",
   "execution_count": 20,
   "id": "ac62818d",
   "metadata": {},
   "outputs": [
    {
     "data": {
      "text/html": [
       "\n",
       "        <iframe\n",
       "            width=\"900\"\n",
       "            height=\"600\"\n",
       "            src=\"MongoDB_GUI.png\"\n",
       "            frameborder=\"0\"\n",
       "            allowfullscreen\n",
       "            \n",
       "        ></iframe>\n",
       "        "
      ],
      "text/plain": [
       "<IPython.lib.display.IFrame at 0x7f8156121610>"
      ]
     },
     "execution_count": 20,
     "metadata": {},
     "output_type": "execute_result"
    }
   ],
   "source": [
    "from IPython.display import IFrame\n",
    "IFrame(\"MongoDB_GUI.png\", width=900, height=600)"
   ]
  },
  {
   "cell_type": "markdown",
   "id": "74a59dd8",
   "metadata": {},
   "source": [
    "## Exercici 2\n",
    "Connecta la base de dades NoSQL a Python utilitzant per exemple pymongo."
   ]
  },
  {
   "cell_type": "code",
   "execution_count": 1,
   "id": "91f4830f",
   "metadata": {},
   "outputs": [],
   "source": [
    "import pymongo\n",
    "import sys\n",
    "\n",
    "# La información relativa al usuario y la contraseña están vacíos por razones de seguridad\n",
    "client = pymongo.MongoClient(\n",
    "    \"mongodb+srv://<user>:<password>@cluster0.ggtgq.mongodb.net/aves?retryWrites=true&w=majority\"\n",
    ")\n",
    "db = client['aves']\n",
    "collection = db['rapaces']\n",
    "cursor = collection.find()\n",
    "\n",
    "print(cursor)\n",
    "\n",
    "for x in cursor:\n",
    "    print(x)"
   ]
  },
  {
   "cell_type": "markdown",
   "id": "4bcecc4e",
   "metadata": {},
   "source": [
    "Por cuestiones de agilidad, he decidido introducir el resto de los datos a través de Python (una vez establecida la conexión)"
   ]
  },
  {
   "cell_type": "code",
   "execution_count": 25,
   "id": "9a047888",
   "metadata": {},
   "outputs": [
    {
     "name": "stdout",
     "output_type": "stream",
     "text": [
      "[ObjectId('62559bc4be2d1e4b989bd132'), ObjectId('62559bc4be2d1e4b989bd133'), ObjectId('62559bc4be2d1e4b989bd134'), ObjectId('62559bc4be2d1e4b989bd135'), ObjectId('62559bc4be2d1e4b989bd136'), ObjectId('62559bc4be2d1e4b989bd137'), ObjectId('62559bc4be2d1e4b989bd138')]\n"
     ]
    }
   ],
   "source": [
    "rapaces = [\n",
    "    { \"name\": \"Merlin\", \"wingspan\": 73, \"body_mass\": 210, \"in_danger\": False},\n",
    "    { \"name\": \"Gyrfalcon\", \"wingspan\": 160, \"body_mass\": 2100 , \"in_danger\": False},\n",
    "    { \"name\": \"Prairie falcon\", \"wingspan\": 1100, \"body_mass\": 970, \"in_danger\": False},\n",
    "    { \"name\": \"Osprey\", \"wingspan\": 180.0, \"body_mass\": 2100.0 , \"in_danger\": True},\n",
    "    { \"name\": \"White tailed kite\", \"wingspan\": 102.0 , \"body_mass\": 380.0 , \"in_danger\": False},\n",
    "    { \"name\": \"Golden eagle\", \"wingspan\": 234.0, \"body_mass\": 6350.0 , \"in_danger\": True},\n",
    "    { \"name\": \"Bald eagle\", \"wingspan\": 230.0, \"body_mass\": 6300.0, \"in_danger\": False}\n",
    "\n",
    "]\n",
    "\n",
    "x = collection.insert_many(rapaces)\n",
    "\n",
    "print(x.inserted_ids)"
   ]
  },
  {
   "cell_type": "code",
   "execution_count": 27,
   "id": "d7ea83de",
   "metadata": {},
   "outputs": [
    {
     "name": "stdout",
     "output_type": "stream",
     "text": [
      "[ObjectId('62559e2cbe2d1e4b989bd139'), ObjectId('62559e2cbe2d1e4b989bd13a'), ObjectId('62559e2cbe2d1e4b989bd13b'), ObjectId('62559e2cbe2d1e4b989bd13c'), ObjectId('62559e2cbe2d1e4b989bd13d'), ObjectId('62559e2cbe2d1e4b989bd13e'), ObjectId('62559e2cbe2d1e4b989bd13f'), ObjectId('62559e2cbe2d1e4b989bd140'), ObjectId('62559e2cbe2d1e4b989bd141')]\n"
     ]
    }
   ],
   "source": [
    "collection = db['patos']\n",
    "\n",
    "patos = [\n",
    "    { \"name\": \"Snow goose\", \"wingspan\": 165.0, \"body_mass\": 4050.0, \"in_danger\": False},\n",
    "    { \"name\": \"Tundra swan\", \"wingspan\": 211.0, \"body_mass\": 9600.0 , \"in_danger\": False},\n",
    "    { \"name\": \"Wood duck\", \"wingspan\": 73.0, \"body_mass\": 862.0, \"in_danger\": False},\n",
    "    { \"name\": \"Garganey\", \"wingspan\": 69.0, \"body_mass\": 400.0 , \"in_danger\": False},\n",
    "    { \"name\": \"Northern shoveler\", \"wingspan\": 76.0 , \"body_mass\": 600.0 , \"in_danger\": False},\n",
    "    { \"name\": \"Gadwall\", \"wingspan\": 90.0, \"body_mass\": 990.0 , \"in_danger\": False},\n",
    "    { \"name\": \"Eurasian wigeon\", \"wingspan\": 230.0, \"body_mass\": 6300.0, \"in_danger\": False},\n",
    "    { \"name\": \"Common eider\", \"wingspan\": 80.0, \"body_mass\": 1073.0, \"in_danger\": False},\n",
    "    { \"name\": \"Harlequin duck\", \"wingspan\": 26.0, \"body_mass\": 600.0, \"in_danger\": False}\n",
    "\n",
    "]\n",
    "\n",
    "x = collection.insert_many(patos)\n",
    "\n",
    "print(x.inserted_ids)"
   ]
  },
  {
   "cell_type": "code",
   "execution_count": 28,
   "id": "e1b239f2",
   "metadata": {},
   "outputs": [
    {
     "name": "stdout",
     "output_type": "stream",
     "text": [
      "[ObjectId('62559f28be2d1e4b989bd142'), ObjectId('62559f28be2d1e4b989bd143'), ObjectId('62559f28be2d1e4b989bd144'), ObjectId('62559f28be2d1e4b989bd145'), ObjectId('62559f28be2d1e4b989bd146'), ObjectId('62559f28be2d1e4b989bd147')]\n"
     ]
    }
   ],
   "source": [
    "collection = db['pajaros_carpinteros']\n",
    "\n",
    "pajaros_carpinteros = [\n",
    "    { \"name\": \"Acorn woodpecker\", \"wingspan\": 43.0, \"body_mass\": 90.0, \"in_danger\": False},\n",
    "    { \"name\": \"Red-bellied woodpecker\", \"wingspan\": 46.0, \"body_mass\": 91.0 , \"in_danger\": False},\n",
    "    { \"name\": \"Yellow-bellied sapsucker\", \"wingspan\": 40.0, \"body_mass\": 62.0, \"in_danger\": False},\n",
    "    { \"name\": \"Black-backed woodpecker\", \"wingspan\": 42.0, \"body_mass\": 88.0 , \"in_danger\": False},\n",
    "    { \"name\": \"Hairy woodpecker\", \"wingspan\": 43.0 , \"body_mass\": 95.0 , \"in_danger\": True},\n",
    "    { \"name\": \"Northern flicker\", \"wingspan\": 54.0, \"body_mass\": 167.0 , \"in_danger\": False}\n",
    "\n",
    "]\n",
    "\n",
    "x = collection.insert_many(pajaros_carpinteros)\n",
    "\n",
    "print(x.inserted_ids)"
   ]
  },
  {
   "cell_type": "markdown",
   "id": "41a3fcd8",
   "metadata": {},
   "source": [
    "## Exercici 3\n",
    "Carega algunes consultes senzilles a un Pandas Dataframe"
   ]
  },
  {
   "cell_type": "code",
   "execution_count": 5,
   "id": "d744f406",
   "metadata": {},
   "outputs": [],
   "source": [
    "import pandas as pd"
   ]
  },
  {
   "cell_type": "markdown",
   "id": "e47eed4b",
   "metadata": {},
   "source": [
    "**Rapaces en peligro**"
   ]
  },
  {
   "cell_type": "code",
   "execution_count": 29,
   "id": "cb88d8dd",
   "metadata": {},
   "outputs": [],
   "source": [
    "collection = db['rapaces']\n",
    "query = { \"in_danger\" : True }\n",
    "cursor = collection.find(query)"
   ]
  },
  {
   "cell_type": "code",
   "execution_count": 30,
   "id": "4dd1e290",
   "metadata": {},
   "outputs": [
    {
     "data": {
      "text/html": [
       "<div>\n",
       "<style scoped>\n",
       "    .dataframe tbody tr th:only-of-type {\n",
       "        vertical-align: middle;\n",
       "    }\n",
       "\n",
       "    .dataframe tbody tr th {\n",
       "        vertical-align: top;\n",
       "    }\n",
       "\n",
       "    .dataframe thead th {\n",
       "        text-align: right;\n",
       "    }\n",
       "</style>\n",
       "<table border=\"1\" class=\"dataframe\">\n",
       "  <thead>\n",
       "    <tr style=\"text-align: right;\">\n",
       "      <th></th>\n",
       "      <th>_id</th>\n",
       "      <th>name</th>\n",
       "      <th>wingspan</th>\n",
       "      <th>body_mass</th>\n",
       "      <th>in_danger</th>\n",
       "    </tr>\n",
       "  </thead>\n",
       "  <tbody>\n",
       "    <tr>\n",
       "      <th>0</th>\n",
       "      <td>6254654b8eae0006324eadb3</td>\n",
       "      <td>Black vulture</td>\n",
       "      <td>180.5</td>\n",
       "      <td>2100.0</td>\n",
       "      <td>True</td>\n",
       "    </tr>\n",
       "    <tr>\n",
       "      <th>1</th>\n",
       "      <td>62559bc4be2d1e4b989bd135</td>\n",
       "      <td>Osprey</td>\n",
       "      <td>180.0</td>\n",
       "      <td>2100.0</td>\n",
       "      <td>True</td>\n",
       "    </tr>\n",
       "    <tr>\n",
       "      <th>2</th>\n",
       "      <td>62559bc4be2d1e4b989bd137</td>\n",
       "      <td>Golden eagle</td>\n",
       "      <td>234.0</td>\n",
       "      <td>6350.0</td>\n",
       "      <td>True</td>\n",
       "    </tr>\n",
       "  </tbody>\n",
       "</table>\n",
       "</div>"
      ],
      "text/plain": [
       "                        _id           name  wingspan  body_mass  in_danger\n",
       "0  6254654b8eae0006324eadb3  Black vulture     180.5     2100.0       True\n",
       "1  62559bc4be2d1e4b989bd135         Osprey     180.0     2100.0       True\n",
       "2  62559bc4be2d1e4b989bd137   Golden eagle     234.0     6350.0       True"
      ]
     },
     "metadata": {},
     "output_type": "display_data"
    }
   ],
   "source": [
    "df_rapaces_peligro =  pd.DataFrame(list(cursor))\n",
    "display(df_rapaces_peligro)"
   ]
  },
  {
   "cell_type": "markdown",
   "id": "f4bee1f0",
   "metadata": {},
   "source": [
    "**Aves con mayor masa corporal**"
   ]
  },
  {
   "cell_type": "markdown",
   "id": "fe23b821",
   "metadata": {},
   "source": [
    "Como MongoDB no es una base de datos relacional, para poder revisar los contenidos de todas las colecciones, creo un dataframe para las aves con más masa corporal de cada colección. Después, concateno estos dataframes y vuelvo a filtrar por mayor masa corporal."
   ]
  },
  {
   "cell_type": "code",
   "execution_count": 47,
   "id": "9a9f7064",
   "metadata": {},
   "outputs": [],
   "source": [
    "collection = db['patos']\n",
    "cursor = collection.find().sort('body_mass',-1).limit(3)\n",
    "df_patos_mayor_masa_corporal =  pd.DataFrame(list(cursor))"
   ]
  },
  {
   "cell_type": "code",
   "execution_count": 48,
   "id": "3407057c",
   "metadata": {},
   "outputs": [],
   "source": [
    "collection = db['rapaces']\n",
    "cursor = collection.find().sort('body_mass',-1).limit(3)\n",
    "df_rapaces_mayor_masa_corporal =  pd.DataFrame(list(cursor))"
   ]
  },
  {
   "cell_type": "code",
   "execution_count": 49,
   "id": "c0f97d23",
   "metadata": {},
   "outputs": [],
   "source": [
    "collection = db['pajaros_carpinteros']\n",
    "cursor = collection.find().sort('body_mass',-1).limit(3)\n",
    "df_carpinteros_mayor_masa_corporal =  pd.DataFrame(list(cursor))"
   ]
  },
  {
   "cell_type": "code",
   "execution_count": 51,
   "id": "abff8ebe",
   "metadata": {},
   "outputs": [
    {
     "data": {
      "text/html": [
       "<div>\n",
       "<style scoped>\n",
       "    .dataframe tbody tr th:only-of-type {\n",
       "        vertical-align: middle;\n",
       "    }\n",
       "\n",
       "    .dataframe tbody tr th {\n",
       "        vertical-align: top;\n",
       "    }\n",
       "\n",
       "    .dataframe thead th {\n",
       "        text-align: right;\n",
       "    }\n",
       "</style>\n",
       "<table border=\"1\" class=\"dataframe\">\n",
       "  <thead>\n",
       "    <tr style=\"text-align: right;\">\n",
       "      <th></th>\n",
       "      <th>_id</th>\n",
       "      <th>name</th>\n",
       "      <th>wingspan</th>\n",
       "      <th>body_mass</th>\n",
       "      <th>in_danger</th>\n",
       "    </tr>\n",
       "  </thead>\n",
       "  <tbody>\n",
       "    <tr>\n",
       "      <th>0</th>\n",
       "      <td>62559e2cbe2d1e4b989bd13a</td>\n",
       "      <td>Tundra swan</td>\n",
       "      <td>211.0</td>\n",
       "      <td>9600.0</td>\n",
       "      <td>False</td>\n",
       "    </tr>\n",
       "    <tr>\n",
       "      <th>1</th>\n",
       "      <td>62559e2cbe2d1e4b989bd13f</td>\n",
       "      <td>Eurasian wigeon</td>\n",
       "      <td>230.0</td>\n",
       "      <td>6300.0</td>\n",
       "      <td>False</td>\n",
       "    </tr>\n",
       "    <tr>\n",
       "      <th>2</th>\n",
       "      <td>62559e2cbe2d1e4b989bd139</td>\n",
       "      <td>Snow goose</td>\n",
       "      <td>165.0</td>\n",
       "      <td>4050.0</td>\n",
       "      <td>False</td>\n",
       "    </tr>\n",
       "  </tbody>\n",
       "</table>\n",
       "</div>"
      ],
      "text/plain": [
       "                        _id             name  wingspan  body_mass  in_danger\n",
       "0  62559e2cbe2d1e4b989bd13a      Tundra swan     211.0     9600.0      False\n",
       "1  62559e2cbe2d1e4b989bd13f  Eurasian wigeon     230.0     6300.0      False\n",
       "2  62559e2cbe2d1e4b989bd139       Snow goose     165.0     4050.0      False"
      ]
     },
     "metadata": {},
     "output_type": "display_data"
    }
   ],
   "source": [
    "frames = [df_patos_mayor_masa_corporal, df_rapaces_mayor_masa_corporal, df_carpinteros_mayor_masa_corporal]\n",
    "df_aves_mayor_masa_corporal = pd.concat(frames)\n",
    "df_aves_mayor_masa_corporal.sort_values(by=['body_mass'])\n",
    "df_aves_mayor_masa_corporal = df_aves_mayor_masa_corporal.head(3)\n",
    "\n",
    "display(df_aves_mayor_masa_corporal)"
   ]
  },
  {
   "cell_type": "markdown",
   "id": "b54de34d",
   "metadata": {},
   "source": [
    "**Pájaros carpinteros más pequeños**"
   ]
  },
  {
   "cell_type": "code",
   "execution_count": 52,
   "id": "62a48ef2",
   "metadata": {},
   "outputs": [
    {
     "data": {
      "text/html": [
       "<div>\n",
       "<style scoped>\n",
       "    .dataframe tbody tr th:only-of-type {\n",
       "        vertical-align: middle;\n",
       "    }\n",
       "\n",
       "    .dataframe tbody tr th {\n",
       "        vertical-align: top;\n",
       "    }\n",
       "\n",
       "    .dataframe thead th {\n",
       "        text-align: right;\n",
       "    }\n",
       "</style>\n",
       "<table border=\"1\" class=\"dataframe\">\n",
       "  <thead>\n",
       "    <tr style=\"text-align: right;\">\n",
       "      <th></th>\n",
       "      <th>_id</th>\n",
       "      <th>name</th>\n",
       "      <th>wingspan</th>\n",
       "      <th>body_mass</th>\n",
       "      <th>in_danger</th>\n",
       "    </tr>\n",
       "  </thead>\n",
       "  <tbody>\n",
       "    <tr>\n",
       "      <th>0</th>\n",
       "      <td>62559f28be2d1e4b989bd144</td>\n",
       "      <td>Yellow-bellied sapsucker</td>\n",
       "      <td>40.0</td>\n",
       "      <td>62.0</td>\n",
       "      <td>False</td>\n",
       "    </tr>\n",
       "    <tr>\n",
       "      <th>1</th>\n",
       "      <td>62559f28be2d1e4b989bd145</td>\n",
       "      <td>Black-backed woodpecker</td>\n",
       "      <td>42.0</td>\n",
       "      <td>88.0</td>\n",
       "      <td>False</td>\n",
       "    </tr>\n",
       "    <tr>\n",
       "      <th>2</th>\n",
       "      <td>62559f28be2d1e4b989bd142</td>\n",
       "      <td>Acorn woodpecker</td>\n",
       "      <td>43.0</td>\n",
       "      <td>90.0</td>\n",
       "      <td>False</td>\n",
       "    </tr>\n",
       "  </tbody>\n",
       "</table>\n",
       "</div>"
      ],
      "text/plain": [
       "                        _id                      name  wingspan  body_mass  \\\n",
       "0  62559f28be2d1e4b989bd144  Yellow-bellied sapsucker      40.0       62.0   \n",
       "1  62559f28be2d1e4b989bd145   Black-backed woodpecker      42.0       88.0   \n",
       "2  62559f28be2d1e4b989bd142          Acorn woodpecker      43.0       90.0   \n",
       "\n",
       "   in_danger  \n",
       "0      False  \n",
       "1      False  \n",
       "2      False  "
      ]
     },
     "metadata": {},
     "output_type": "display_data"
    }
   ],
   "source": [
    "collection = db['pajaros_carpinteros']\n",
    "cursor = collection.find().sort('wingspan').limit(3)\n",
    "df_carpinteros_mas_peques =  pd.DataFrame(list(cursor))\n",
    "display(df_carpinteros_mas_peques)"
   ]
  },
  {
   "cell_type": "markdown",
   "id": "2a1b821c",
   "metadata": {},
   "source": [
    "## Exercici 4\n",
    "Genera un resum estadístic de la informació que conté la base de dades"
   ]
  },
  {
   "cell_type": "code",
   "execution_count": 75,
   "id": "ccb730fe",
   "metadata": {},
   "outputs": [
    {
     "data": {
      "text/plain": [
       "{'db': 'aves',\n",
       " 'collections': 3,\n",
       " 'views': 0,\n",
       " 'objects': 26,\n",
       " 'avgObjSize': 94.73076923076923,\n",
       " 'dataSize': 2463,\n",
       " 'storageSize': 77824,\n",
       " 'totalFreeStorageSize': 0,\n",
       " 'numExtents': 0,\n",
       " 'indexes': 3,\n",
       " 'indexSize': 77824,\n",
       " 'fileSize': 0,\n",
       " 'nsSizeMB': 0,\n",
       " 'ok': 1}"
      ]
     },
     "execution_count": 75,
     "metadata": {},
     "output_type": "execute_result"
    }
   ],
   "source": [
    "db.command(\"dbstats\")"
   ]
  }
 ],
 "metadata": {
  "kernelspec": {
   "display_name": "Python 3 (ipykernel)",
   "language": "python",
   "name": "python3"
  },
  "language_info": {
   "codemirror_mode": {
    "name": "ipython",
    "version": 3
   },
   "file_extension": ".py",
   "mimetype": "text/x-python",
   "name": "python",
   "nbconvert_exporter": "python",
   "pygments_lexer": "ipython3",
   "version": "3.9.7"
  }
 },
 "nbformat": 4,
 "nbformat_minor": 5
}
